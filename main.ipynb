!apt-get install mysql-client

import subprocess

# Install mysql-client
!apt-get install mysql-client -y

# MySQL connection details
database_name = 'yjenufet_hashing'
host = 'arpudhacheck.online'
username = 'yjenufet_arpudha'
password = 'arpudha@123'

# Table to export
table_name = 'md5_2char'

# Output file for the SQL dump
output_file = f'/content/{table_name}.sql'

# Build the mysqldump command
command = f"mysqldump -h {host} -u {username} -p{password} {database_name} {table_name} > {output_file}"

# Run the mysqldump command
try:
    subprocess.run(command, shell=True, check=True)
    print(f'Table {table_name} exported successfully to {output_file}')
except subprocess.CalledProcessError as e:
    print(f'Error exporting table {table_name}: {e}')
